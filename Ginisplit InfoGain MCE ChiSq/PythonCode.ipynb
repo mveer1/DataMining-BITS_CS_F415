{
  "nbformat": 4,
  "nbformat_minor": 0,
  "metadata": {
    "colab": {
      "name": "PartA.ipynb",
      "provenance": [],
      "collapsed_sections": []
    },
    "kernelspec": {
      "name": "python3",
      "display_name": "Python 3"
    },
    "language_info": {
      "name": "python"
    }
  },
  "cells": [
    {
      "cell_type": "markdown",
      "metadata": {
        "id": "L4Ncf4n7qJnl"
      },
      "source": [
        "PART A:\n",
        "1. Write programs to calculate info-gain, gain-ratio, gini-split, miss-classification error, and chi-square value for all features (all 56 datasets).\n",
        "2. Rank the features using above metrics.\n",
        "\n"
      ]
    },
    {
      "cell_type": "code",
      "metadata": {
        "id": "arjschdbqMsa"
      },
      "source": [
        "import pandas as pd\n",
        "import numpy as np"
      ],
      "execution_count": 1,
      "outputs": []
    },
    {
      "cell_type": "markdown",
      "metadata": {
        "id": "flFp1W06zd03"
      },
      "source": [
        "## Gini Split Values"
      ]
    },
    {
      "cell_type": "code",
      "metadata": {
        "id": "Dt2dsdV4qM0w"
      },
      "source": [
        "def nos(c,in1):\n",
        "    in2=np.where(c[in1[0]]==0)\n",
        "    in3=np.where(c[in1[0]]>0)\n",
        "    return len(in2[0]),len(in3[0])\n",
        "\n",
        "def giniscal(f,c):\n",
        "    mf=np.median(f)\n",
        "    in1=np.where(f<=mf)\n",
        "    in2=np.where(f>mf)\n",
        "    n00,n01=nos(c,in1)\n",
        "    n10,n11=nos(c,in2)\n",
        "    if (n00==0 or n01==0):\n",
        "        p00=0.5\n",
        "        p01=0.5\n",
        "    else:\n",
        "        p00=n00/(n00+n01)\n",
        "        p01=n01/(n00+n01)\n",
        "    if(n10==0 or n11==0):\n",
        "        p10=0.5\n",
        "        p11=0.5\n",
        "    else:\n",
        "        p10=n10/(n10+n11)\n",
        "        p11=n11/(n10+n11)\n",
        "    gl=1-p00*p00-p01*p01;\n",
        "    gr=1-p10*p10-p11*p11;\n",
        "    fgs=len(in1[0])/(len(in1[0])+len(in2[0]))*gl+len(in2[0])/(len(in1[0])+len(in2[0]))*gr\n",
        "    return fgs\n",
        "\n",
        "gsv=np.zeros((56,20))\n",
        "# fileloc='C:/users/lov/Desktop/tsdata/'\n",
        "for i in range(1,57):\n",
        "    print(i)\n",
        "    fname=str(i)+'.csv'\n",
        "    data=np.genfromtxt(fname,delimiter=',')\n",
        "    for j in range(0,21):\n",
        "        gsv[i-1,j]=giniscal(data[:,j],data[:,-1])\n",
        "        gsv.sort()"
      ],
      "execution_count": null,
      "outputs": []
    },
    {
      "cell_type": "code",
      "metadata": {
        "id": "yLB-RXeVzJRi"
      },
      "source": [
        "df = pd.DataFrame(gsv)\n",
        "df.to_csv(\"ginisplit.csv\")"
      ],
      "execution_count": 24,
      "outputs": []
    },
    {
      "cell_type": "markdown",
      "metadata": {
        "id": "HKKbvD9X1RMD"
      },
      "source": [
        "## Info GAIn"
      ]
    },
    {
      "cell_type": "code",
      "metadata": {
        "id": "1tJ75QwA8-tf"
      },
      "source": [
        "def info_gain(groups, classes, dataset):\n",
        "    n_instances = float(sum([len(group) for group in groups]))\n",
        "    infogain = 0.0\n",
        "    for class_val in classes:\n",
        "            p = [row[-1] for row in dataset].count(class_val) / n_instances\n",
        "            if p == 0.0:\n",
        "              continue\n",
        "            infogain += - p * np.log2(p)\n",
        "    for group in groups:\n",
        "        size = float(len(group))\n",
        "        if size == 0:\n",
        "            continue\n",
        "        score = 0.0\n",
        "        for class_val in classes:\n",
        "            p = [row[-1] for row in group].count(class_val) / size\n",
        "            if p == 0.0:\n",
        "              continue\n",
        "            score += - p * np.log2(p)\n",
        "        infogain -= (score) * (size / n_instances)\n",
        "    return infogain\n",
        "\n",
        "def test_split(index, value, dataset):\n",
        "    left, right = list(), list()\n",
        "    for row in dataset:\n",
        "        if row[index] < value:\n",
        "            left.append(row)\n",
        "        else:\n",
        "            right.append(row)\n",
        "    return left, right\n",
        "\n",
        "def get_split_info_gain(dataset):\n",
        "    class_values = list(set(row[-1] for row in dataset))\n",
        "    info_all=[]\n",
        "    for index in range(len(dataset[0])-1):\n",
        "        value = np.mean([row[index] for row in dataset])\n",
        "        groups = test_split(index, value, dataset)\n",
        "        info = info_gain(groups, class_values,dataset)\n",
        "        info_all.append(info)\n",
        "    # info_all.sort(key= lambda x: x[1],reverse =True)\n",
        "    return info_all\n",
        "\n",
        "lis = []\n",
        "for i in range(1,57):\n",
        "    fname = str(i)+\".csv\"\n",
        "    X = np.genfromtxt(fname, delimiter=',')\n",
        "    lis.append(get_split_info_gain(X))\n",
        "    # X = X[:,0:-1]\n",
        "    # np.savetxt(str(i)+\"info.csv\",get_split_info_gain(X), delimiter=',', fmt='%f')\n"
      ],
      "execution_count": 40,
      "outputs": []
    },
    {
      "cell_type": "code",
      "metadata": {
        "id": "esv-152tqRr2"
      },
      "source": [
        ""
      ],
      "execution_count": null,
      "outputs": []
    },
    {
      "cell_type": "code",
      "metadata": {
        "id": "YmThVbXsqHr9"
      },
      "source": [
        "import pandas as pd\n",
        "import matplotlib.pyplot as plt\n",
        "import seaborn as sns\n",
        "\n",
        "df = pd.read_csv('acc.csv', header = None)\n",
        "print(df.head(3))\n",
        "df.columns = ['Model1', 'Model2', 'Model3', 'Model4', 'Model5']\n",
        "print(df.head(3))\n",
        "\n",
        "sns.boxplot(data=df,palette=\"colorblind\")\n",
        "plt.savefig('accuracy.png')"
      ],
      "execution_count": null,
      "outputs": []
    },
    {
      "cell_type": "markdown",
      "metadata": {
        "id": "kje1u3k1zKqx"
      },
      "source": [
        "## Miss classification"
      ]
    },
    {
      "cell_type": "code",
      "metadata": {
        "id": "ASY0qNOvQSdn"
      },
      "source": [
        "def mc_mce(groups, classes):\n",
        "    n_instances = float(sum([len(group) for group in groups]))\n",
        "    mce = 0.0\n",
        "    for group in groups:\n",
        "        size = float(len(group))\n",
        "        if size == 0:\n",
        "            continue\n",
        "        prob = []\n",
        "        for class_val in classes:\n",
        "            p = [row[-1] for row in group].count(class_val) / size\n",
        "            prob.append(p)\n",
        "        mce += (1.0 - np.amax(prob)) * (size / n_instances)\n",
        "    return mce\n",
        "\n",
        "def test_split(index, value, dataset):\n",
        "    left, right = list(), list()\n",
        "    for row in dataset:\n",
        "        if row[index] < value:\n",
        "            left.append(row)\n",
        "        else:\n",
        "            right.append(row)\n",
        "    return left, right\n",
        "\n",
        "def get_split_mc_mce(dataset):\n",
        "    class_values = list(set(row[-1] for row in dataset))\n",
        "    mce_all=[]\n",
        "    for index in range(len(dataset[0])-1):\n",
        "        value=np.mean([row[index] for row in dataset])\n",
        "        groups = test_split(index, value, dataset)\n",
        "        mce = mc_mce(groups, class_values)\n",
        "        mce_all.append([index,mce])\n",
        "    # mce_all.sort(key= lambda x: x[1])\n",
        "    return mce_all\n",
        "\n",
        "for i in range(1,57):\n",
        "    fname = str(i)+\".csv\"\n",
        "    X = np.genfromtxt(fname, delimiter=',')\n",
        "    # X = X[:,0:-1]\n",
        "    np.savetxt(str(i)+\"mce.csv\",get_split_mc_mce(X), delimiter=',', fmt='%f')\n",
        "    print(i)"
      ],
      "execution_count": null,
      "outputs": []
    },
    {
      "cell_type": "markdown",
      "metadata": {
        "id": "G8BmBHbWQPLU"
      },
      "source": [
        "## Chi Square"
      ]
    },
    {
      "cell_type": "code",
      "metadata": {
        "colab": {
          "base_uri": "https://localhost:8080/"
        },
        "id": "YUwmxpdwkMei",
        "outputId": "c767f50c-60ad-4ff6-c012-139f9e3059fe"
      },
      "source": [
        "def chi_square(groups, classes,dataset):\n",
        "    count_group=[len(group) for group in groups]\n",
        "    n_instances = float(sum(count_group))\n",
        "    count_class=[]\n",
        "    for class_val in classes:\n",
        "            count_class.append([row[-1] for row in dataset].count(class_val))\n",
        "    expected_matrix=[c*g/n_instances for g in count_group for c in count_class]\n",
        "    chi = 0.0\n",
        "    for group in groups:\n",
        "        size = float(len(group))\n",
        "        if size == 0:\n",
        "            continue\n",
        "        prob = []\n",
        "        for class_val in classes:\n",
        "            n = [row[-1] for row in group].count(class_val) \n",
        "            try:\n",
        "                ind=(groups.index(group)*2 + classes.index(class_val))\n",
        "            except ValueError:\n",
        "                continue\n",
        "            if expected_matrix[ind] == 0:\n",
        "               expected_matrix[ind] = 1\n",
        "            ind=(groups.index(group)*2 + classes.index(class_val))\n",
        "            chi+= (n-expected_matrix[ind])**2/expected_matrix[ind]\n",
        "    return chi\n",
        "\n",
        "def test_split(index, value, dataset):\n",
        "    left, right = list(), list()\n",
        "    for row in dataset:\n",
        "        if row[index] < value:\n",
        "            left.append(row)\n",
        "        else:\n",
        "            right.append(row)\n",
        "    return left, right\n",
        "\n",
        "def get_split_chi_square(dataset):\n",
        "    class_values = list(set(row[-1] for row in dataset))\n",
        "    chi_all=[]\n",
        "    for index in range(len(dataset[0])-1):\n",
        "        value=np.mean([row[index] for row in dataset])\n",
        "        groups = test_split(index, value, dataset)\n",
        "        chi = chi_square(groups, class_values,dataset)\n",
        "        chi_all.append([index,chi])\n",
        "    chi_all.sort(key= lambda x: x[1],reverse=True)\n",
        "    return [c[0] for c in chi_all][:5]\n",
        "\n",
        "lis = []\n",
        "for i in range(1,57):\n",
        "    fname = str(i)+\".csv\"\n",
        "    X = np.genfromtxt(fname, delimiter=',')\n",
        "    # np.savetxt(str(i)+\"chi.csv\",get_split_chi_square(X), delimiter=',', fmt='%f')\n",
        "    lis.append(get_split_chi_square(X))\n",
        "print(lis)"
      ],
      "execution_count": 34,
      "outputs": [
        {
          "output_type": "stream",
          "text": [
            "[[11, 13, 1, 14, 15], [11, 13, 14, 1, 7], [11, 13, 14, 1, 15], [11, 13, 14, 1, 15], [13, 11, 14, 1, 15], [11, 9, 14, 17, 19], [11, 14, 13, 9, 19], [11, 13, 19, 14, 12], [11, 1, 13, 19, 14], [11, 1, 14, 19, 13], [11, 1, 13, 19, 14], [19, 13, 11, 14, 1], [11, 14, 3, 19, 6], [11, 14, 4, 8, 0], [11, 14, 1, 13, 12], [11, 14, 1, 13, 12], [13, 11, 14, 15, 9], [13, 11, 14, 15, 17], [13, 11, 14, 15, 17], [13, 11, 14, 15, 17], [11, 13, 14, 17, 19], [13, 19, 9, 3, 1], [14, 12, 17, 19, 4], [14, 17, 12, 18, 19], [14, 11, 1, 13, 12], [1, 11, 13, 14, 7], [1, 11, 13, 14, 15], [1, 11, 13, 15, 7], [2, 9, 14, 0, 6], [14, 13, 17, 9, 7], [14, 1, 13, 11, 9], [13, 14, 1, 15, 9], [13, 14, 9, 7, 1], [13, 14, 9, 7, 1], [13, 14, 1, 7, 0], [11, 14, 7, 9, 0], [11, 14, 19, 4, 18], [13, 14, 11, 7, 9], [2, 9, 14, 11, 0], [11, 7, 6, 3, 4], [11, 7, 4, 1, 13], [11, 14, 1, 7, 13], [11, 14, 1, 7, 13], [2, 11, 13, 1, 14], [2, 11, 1, 13, 15], [14, 9, 8, 12, 6], [7, 11, 14, 1, 13], [11, 17, 9, 1, 13], [1, 13, 14, 9, 11], [6, 10, 12, 7, 15], [11, 13, 0, 1, 6], [9, 14, 13, 7, 1], [9, 14, 13, 8, 1], [9, 1, 13, 14, 15], [9, 14, 8, 11, 0], [2, 15, 16, 11, 0]]\n"
          ],
          "name": "stdout"
        }
      ]
    },
    {
      "cell_type": "code",
      "metadata": {
        "id": "7VCUNq7ClVTY"
      },
      "source": [
        "lis = np.array(lis)"
      ],
      "execution_count": 35,
      "outputs": []
    },
    {
      "cell_type": "code",
      "metadata": {
        "id": "hrGSG3C9lVKO"
      },
      "source": [
        "np.savetxt(\"chiranked.csv\",lis, delimiter=',', fmt='%f') "
      ],
      "execution_count": 36,
      "outputs": []
    },
    {
      "cell_type": "markdown",
      "metadata": {
        "id": "6kfZWQgynCly"
      },
      "source": [
        "## Gain Ratio"
      ]
    },
    {
      "cell_type": "code",
      "metadata": {
        "id": "JZQhTPmfXbSo"
      },
      "source": [
        "def nos(c,in1):\n",
        "    in2=np.where(c[in1[0]]==0)\n",
        "    in3=np.where(c[in1[0]]>0)\n",
        "    return len(in2[0]),len(in3[0])\n",
        "\n",
        "def val(a,b,x):\n",
        "    rval = (a+b)/x\n",
        "    ans = -rval*(np.math.log(rval,2))\n",
        "    return ans\n",
        "\n",
        "\n",
        "def splitinfo(f,c):\n",
        "    mf=np.median(f)\n",
        "    in1=np.where(f<=mf)\n",
        "    in2=np.where(f>mf)\n",
        "    n00,n01=nos(c,in1)\n",
        "    n10,n11=nos(c,in2)\n",
        "    tots=n00+n01+n10+n11\n",
        "    if n00+n01==0:\n",
        "        val1=0\n",
        "    else:\n",
        "        val1=val(n00,n01,tots)\n",
        "        \n",
        "    if n10+n11==0:\n",
        "        val2=0\n",
        "    else:\n",
        "        val2=val(n10,n11,tots)\n",
        "    spinf=val1+val2\n",
        "    return spinf"
      ],
      "execution_count": null,
      "outputs": []
    },
    {
      "cell_type": "code",
      "metadata": {
        "id": "yAHaik-LXbVJ"
      },
      "source": [
        "splitinfoval=np.zeros((56,20))\n",
        "fileloc='/'\n",
        "for i in range(1,57):\n",
        "    print(i)\n",
        "    fname=str(i)+'.csv'\n",
        "    data=np.genfromtxt(fname,delimiter=',')\n",
        "    for j in range(0,20):\n",
        "        splitinfoval[i-1,j]=splitinfo(data[:,j],data[:,-1])\n",
        "fname=fileloc+'splitinfo.csv'\n",
        "np.savetxt(fname,splitinfoval, delimiter=',', fmt='%f')"
      ],
      "execution_count": null,
      "outputs": []
    },
    {
      "cell_type": "code",
      "metadata": {
        "id": "cr3k1kapXbYB"
      },
      "source": [
        "rgainratioval=np.zeros((56,25))\n",
        "fileloc='/'\n",
        "for i in range(1,57):\n",
        "    print(i)\n",
        "    fname1=fileloc + 'splitinfo.csv'\n",
        "    fname2=fileloc + 'infogain.csv'\n",
        "    data2=np.genfromtxt(fname1,delimiter=',')\n",
        "    data1=np.genfromtxt(fname2,delimiter=',')\n",
        "    dicts = {}\n",
        "    keys = range(20)\n",
        "    values = {}\n",
        "    for j in range(0,20):\n",
        "        if data2[i-1,j]==0:\n",
        "            rgainratioval[i-1,j]=0\n",
        "            values[j]=rgainratioval[i-1,j]\n",
        "        else:\n",
        "            rgainratioval[i-1,j]=data1[i-1,j]/data2[i-1,j]\n",
        "            values[j]=rgainratioval[i-1,j]\n",
        "            \n",
        "    for k in keys:\n",
        "        dicts[k] = values[k]\n",
        "        \n",
        "    ans = sorted(dicts.items(),reverse=True,key=lambda dicts:dicts[1])[0:5]\n",
        "    rgainratioval[i-1,20]=ans[0][0]+1\n",
        "    rgainratioval[i-1,21]=ans[1][0]+1\n",
        "    rgainratioval[i-1,22]=ans[2][0]+1\n",
        "    rgainratioval[i-1,23]=ans[3][0]+1\n",
        "    rgainratioval[i-1,24]=ans[4][0]+1\n",
        "fname=fileloc+'rankedgainratio.csv'\n",
        "np.savetxt(fname,rgainratioval, delimiter=',', fmt='%f')"
      ],
      "execution_count": null,
      "outputs": []
    }
  ]
}