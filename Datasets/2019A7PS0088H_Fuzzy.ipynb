{
 "cells": [
  {
   "cell_type": "code",
   "execution_count": null,
   "metadata": {},
   "outputs": [],
   "source": [
    "# pip install fuzzy-c-means"
   ]
  },
  {
   "cell_type": "code",
   "execution_count": null,
   "metadata": {},
   "outputs": [],
   "source": [
    "import numpy as np\n",
    "from fcmeans import FCM\n",
    "import sklearn\n",
    "\n",
    "\n",
    "fname=\"1.csv\"\n",
    "data=np.genfromtxt(fname,delimiter=',')\n",
    "\n",
    "fuzzy = FCM(n_clusters=2)\n",
    "fuzzy.fit(data[:,0:-1])\n",
    "\n",
    "fcm_centers = fuzzy.centers\n",
    "fcm_labels = fuzzy.predict(data[:,0:-1])\n",
    "\n",
    "si=np.zeros((56,9))\n",
    "db=np.zeros((56,9))\n",
    "\n",
    "for i in range(1,57):\n",
    "    fname=str(i)+'.csv'\n",
    "    data=np.genfromtxt(fname,delimiter=',')\n",
    "    for j in range(2,11):\n",
    "        fcm = FCM(n_clusters=j)\n",
    "        fcm.fit(data[:,0:-1]) # fcm_centers = fcm.centers\n",
    "        fcm_labels = fcm.predict(data[:,0:-1])\n",
    "        si[i-1,j-2]=sklearn.metrics.silhouette_score(data[:,0:-1], fcm_labels,metric='euclidean')\n",
    "        db[i-1,j-2]=sklearn.metrics.davies_bouldin_score(data[:,0:-1], fcm_labels)\n",
    "#         print(db[i-1,j-2])"
   ]
  },
  {
   "cell_type": "code",
   "execution_count": null,
   "metadata": {},
   "outputs": [],
   "source": []
  },
  {
   "cell_type": "code",
   "execution_count": null,
   "metadata": {},
   "outputs": [],
   "source": []
  },
  {
   "cell_type": "code",
   "execution_count": null,
   "metadata": {},
   "outputs": [],
   "source": []
  }
 ],
 "metadata": {
  "kernelspec": {
   "display_name": "Python 3",
   "language": "python",
   "name": "python3"
  },
  "language_info": {
   "codemirror_mode": {
    "name": "ipython",
    "version": 3
   },
   "file_extension": ".py",
   "mimetype": "text/x-python",
   "name": "python",
   "nbconvert_exporter": "python",
   "pygments_lexer": "ipython3",
   "version": "3.7.6"
  }
 },
 "nbformat": 4,
 "nbformat_minor": 4
}
