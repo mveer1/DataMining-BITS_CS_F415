{
 "cells": [
  {
   "cell_type": "code",
   "execution_count": null,
   "metadata": {
    "id": "5eZF0YRSwETF"
   },
   "outputs": [],
   "source": [
    "import numpy as np\n",
    "import pandas as pd\n",
    "import random\n",
    "import sklearn\n",
    "from sklearn.cluster import KMeans"
   ]
  },
  {
   "cell_type": "code",
   "execution_count": null,
   "metadata": {
    "id": "jNUrxJeKzwbI"
   },
   "outputs": [],
   "source": [
    "def membership(data, centers, num_clusters, m, seed):\n",
    "\n",
    "    membership_matrix = np.zeros((data.shape[0],num_clusters))\n",
    "    for i in range(0, data.shape[0]):\n",
    "        if data[i].tolist() in centers.tolist():\n",
    "            membership_matrix[i][np.where((centers == data[i]).all(axis=1))]=1\n",
    "            continue\n",
    "        for j in range(0, num_clusters):\n",
    "            numerator = np.linalg.norm(data[i] - centers[j])\n",
    "            sum=0;\n",
    "            for k in range(0, num_clusters):\n",
    "                denominator = np.linalg.norm(data[i] - centers[k])\n",
    "                sum = sum + (numerator/denominator)**(2.0/(m-1))\n",
    "            membership_matrix[i][j] = 1/sum;\n",
    "\n",
    "    return membership_matrix"
   ]
  },
  {
   "cell_type": "code",
   "execution_count": null,
   "metadata": {
    "id": "1JtaNI8QXYZn"
   },
   "outputs": [],
   "source": [
    "def find_new_centers(data, u, m):\n",
    "    col = u.shape[1]\n",
    "    new_u = np.power(u,m)\n",
    "    new_u = new_u/np.sum(new_u, axis=0)\n",
    "    centers = np.zeros((col,data.shape[1]))\n",
    "    centers = np.dot(new_u.T, data)\n",
    "    return centers"
   ]
  },
  {
   "cell_type": "code",
   "execution_count": null,
   "metadata": {
    "id": "FIJ67KN0bQCt"
   },
   "outputs": [],
   "source": [
    "def finalc(data, num_clusters = 4, m=2, error = 1e-3, seed = 101, max_iterations = 1000):\n",
    "    indices = random.sample(range(1,data.shape[0]), num_clusters)\n",
    "    centers = np.zeros((num_clusters,data.shape[1]))\n",
    "    i_count = 0\n",
    "    for i in range(0,num_clusters):\n",
    "        centers[i,:] = data[indices[i],:]\n",
    "    membership_matrix_prev = 0\n",
    "    membership_matrix_curr = 0\n",
    "    for i in range(0,max_iterations):\n",
    "        membership_matrix_curr = membership(data, centers, num_clusters, m, seed);\n",
    "        if(i == 0):\n",
    "            membership_matrix_prev = membership_matrix_curr\n",
    "            continue;\n",
    "        centers = find_new_centers(data,membership_matrix_curr,m)\n",
    "    return membership_matrix_curr,centers,i_count"
   ]
  },
  {
   "cell_type": "code",
   "execution_count": null,
   "metadata": {
    "colab": {
     "base_uri": "https://localhost:8080/"
    },
    "id": "MHW1zcEg7UQL",
    "outputId": "c6a5a99c-ced1-410c-b30b-d96d3438ad0b"
   },
   "outputs": [
    {
     "name": "stdout",
     "output_type": "stream",
     "text": [
      "Mounted at /content/drive\n"
     ]
    }
   ],
   "source": [
    "from google.colab import drive\n",
    "drive.mount('/content/drive')"
   ]
  },
  {
   "cell_type": "code",
   "execution_count": null,
   "metadata": {
    "colab": {
     "base_uri": "https://localhost:8080/",
     "height": 1000
    },
    "id": "uN76bwCoyuAh",
    "outputId": "8ab9afa6-d337-4847-8047-525c2e35f14e"
   },
   "outputs": [
    {
     "name": "stdout",
     "output_type": "stream",
     "text": [
      "done file 1\n",
      "done file 2\n",
      "done file 3\n",
      "done file 4\n",
      "done file 5\n",
      "done file 6\n",
      "done file 7\n",
      "done file 8\n",
      "done file 9\n",
      "done file 10\n",
      "done file 11\n",
      "done file 12\n",
      "done file 13\n",
      "done file 14\n",
      "done file 15\n",
      "done file 16\n",
      "done file 17\n",
      "done file 18\n",
      "done file 19\n",
      "done file 20\n",
      "done file 21\n",
      "done file 22\n",
      "done file 23\n",
      "done file 24\n",
      "done file 25\n",
      "done file 26\n",
      "done file 27\n",
      "done file 28\n",
      "done file 29\n",
      "done file 30\n",
      "done file 31\n",
      "done file 32\n",
      "done file 33\n",
      "done file 34\n",
      "done file 35\n",
      "done file 36\n",
      "done file 37\n",
      "done file 38\n",
      "done file 39\n",
      "done file 40\n",
      "done file 41\n",
      "done file 42\n",
      "done file 43\n",
      "done file 44\n",
      "done file 45\n",
      "done file 46\n",
      "done file 47\n",
      "done file 48\n",
      "done file 49\n",
      "done file 50\n",
      "done file 51\n",
      "done file 52\n",
      "done file 53\n",
      "done file 54\n",
      "done file 55\n",
      "done file 56\n",
      "done\n"
     ]
    },
    {
     "data": {
      "application/javascript": [
       "\n",
       "    async function download(id, filename, size) {\n",
       "      if (!google.colab.kernel.accessAllowed) {\n",
       "        return;\n",
       "      }\n",
       "      const div = document.createElement('div');\n",
       "      const label = document.createElement('label');\n",
       "      label.textContent = `Downloading \"${filename}\": `;\n",
       "      div.appendChild(label);\n",
       "      const progress = document.createElement('progress');\n",
       "      progress.max = size;\n",
       "      div.appendChild(progress);\n",
       "      document.body.appendChild(div);\n",
       "\n",
       "      const buffers = [];\n",
       "      let downloaded = 0;\n",
       "\n",
       "      const channel = await google.colab.kernel.comms.open(id);\n",
       "      // Send a message to notify the kernel that we're ready.\n",
       "      channel.send({})\n",
       "\n",
       "      for await (const message of channel.messages) {\n",
       "        // Send a message to notify the kernel that we're ready.\n",
       "        channel.send({})\n",
       "        if (message.buffers) {\n",
       "          for (const buffer of message.buffers) {\n",
       "            buffers.push(buffer);\n",
       "            downloaded += buffer.byteLength;\n",
       "            progress.value = downloaded;\n",
       "          }\n",
       "        }\n",
       "      }\n",
       "      const blob = new Blob(buffers, {type: 'application/binary'});\n",
       "      const a = document.createElement('a');\n",
       "      a.href = window.URL.createObjectURL(blob);\n",
       "      a.download = filename;\n",
       "      div.appendChild(a);\n",
       "      a.click();\n",
       "      div.remove();\n",
       "    }\n",
       "  "
      ],
      "text/plain": [
       "<IPython.core.display.Javascript object>"
      ]
     },
     "metadata": {
      "tags": []
     },
     "output_type": "display_data"
    },
    {
     "data": {
      "application/javascript": [
       "download(\"download_11ff16d0-8df8-47fa-8767-f7ada3dd3a59\", \"cmeans_shilv.csv\", 4536)"
      ],
      "text/plain": [
       "<IPython.core.display.Javascript object>"
      ]
     },
     "metadata": {
      "tags": []
     },
     "output_type": "display_data"
    },
    {
     "name": "stdout",
     "output_type": "stream",
     "text": [
      "done\n"
     ]
    },
    {
     "data": {
      "application/javascript": [
       "\n",
       "    async function download(id, filename, size) {\n",
       "      if (!google.colab.kernel.accessAllowed) {\n",
       "        return;\n",
       "      }\n",
       "      const div = document.createElement('div');\n",
       "      const label = document.createElement('label');\n",
       "      label.textContent = `Downloading \"${filename}\": `;\n",
       "      div.appendChild(label);\n",
       "      const progress = document.createElement('progress');\n",
       "      progress.max = size;\n",
       "      div.appendChild(progress);\n",
       "      document.body.appendChild(div);\n",
       "\n",
       "      const buffers = [];\n",
       "      let downloaded = 0;\n",
       "\n",
       "      const channel = await google.colab.kernel.comms.open(id);\n",
       "      // Send a message to notify the kernel that we're ready.\n",
       "      channel.send({})\n",
       "\n",
       "      for await (const message of channel.messages) {\n",
       "        // Send a message to notify the kernel that we're ready.\n",
       "        channel.send({})\n",
       "        if (message.buffers) {\n",
       "          for (const buffer of message.buffers) {\n",
       "            buffers.push(buffer);\n",
       "            downloaded += buffer.byteLength;\n",
       "            progress.value = downloaded;\n",
       "          }\n",
       "        }\n",
       "      }\n",
       "      const blob = new Blob(buffers, {type: 'application/binary'});\n",
       "      const a = document.createElement('a');\n",
       "      a.href = window.URL.createObjectURL(blob);\n",
       "      a.download = filename;\n",
       "      div.appendChild(a);\n",
       "      a.click();\n",
       "      div.remove();\n",
       "    }\n",
       "  "
      ],
      "text/plain": [
       "<IPython.core.display.Javascript object>"
      ]
     },
     "metadata": {
      "tags": []
     },
     "output_type": "display_data"
    },
    {
     "data": {
      "application/javascript": [
       "download(\"download_d949aa15-ea1b-4478-9408-0d9fbdcc7b58\", \"cmeans_db.csv\", 4536)"
      ],
      "text/plain": [
       "<IPython.core.display.Javascript object>"
      ]
     },
     "metadata": {
      "tags": []
     },
     "output_type": "display_data"
    }
   ],
   "source": [
    "\n",
    "my_si = np.zeros((56,9))\n",
    "my_db = np.zeros((56,9))\n",
    "for file_number in range(1,57):\n",
    "    data = pd.read_csv(\"drive/MyDrive/data/\"+str(file_number)+\".csv\", sep=',',header=None)\n",
    "    data = data.to_numpy()\n",
    "    data = data[:,0:-1]\n",
    "    for num_clusters in range(2,11):\n",
    "        u, centers, i_count = finalc(data, num_clusters = num_clusters, m=2, error = 1e-6, seed = 101, max_iterations = 50)\n",
    "        my_clusters = [[] for i in range(0,num_clusters+1)]\n",
    "        my_map = []\n",
    "        for i in range(data.shape[0]):\n",
    "            my_map.append(np.where(u[i]==np.max(u[i]))[0][0])\n",
    "            my_clusters[my_map[i]+1].append(i+1)\n",
    "        my_clusters.sort(key=len)\n",
    "\n",
    "        my_si[file_number-1, num_clusters-2] = sklearn.metrics.silhouette_score(data, my_map, metric='euclidean')\n",
    "        my_db[file_number-1, num_clusters-2] = sklearn.metrics.davies_bouldin_score(data, my_map)\n",
    "    \n",
    "    print('done file '+str(file_number))\n",
    "\n",
    "from google.colab import files\n",
    "fname = 'cmeans_shilv.csv'\n",
    "np.savetxt(fname, my_si, delimiter=',', fmt='%f')\n",
    "print('done')\n",
    "files.download(fname)\n",
    "fname2 = 'cmeans_db.csv'\n",
    "np.savetxt(fname2, my_db, delimiter=',', fmt='%f')\n",
    "print('done')\n",
    "files.download(fname2)"
   ]
  },
  {
   "cell_type": "code",
   "execution_count": null,
   "metadata": {
    "id": "lX0Addsf5I4G"
   },
   "outputs": [],
   "source": []
  }
 ],
 "metadata": {
  "colab": {
   "collapsed_sections": [],
   "name": "fcmeans.ipynb",
   "provenance": []
  },
  "kernelspec": {
   "display_name": "Python 3",
   "language": "python",
   "name": "python3"
  },
  "language_info": {
   "codemirror_mode": {
    "name": "ipython",
    "version": 3
   },
   "file_extension": ".py",
   "mimetype": "text/x-python",
   "name": "python",
   "nbconvert_exporter": "python",
   "pygments_lexer": "ipython3",
   "version": "3.7.6"
  }
 },
 "nbformat": 4,
 "nbformat_minor": 1
}
