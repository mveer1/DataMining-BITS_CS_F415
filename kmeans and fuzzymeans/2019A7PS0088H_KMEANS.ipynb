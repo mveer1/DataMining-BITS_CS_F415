{
 "cells": [
  {
   "cell_type": "markdown",
   "metadata": {},
   "source": [
    "# Kmeans without sklearn and SI and DB "
   ]
  },
  {
   "cell_type": "code",
   "execution_count": null,
   "metadata": {},
   "outputs": [],
   "source": [
    "from copy import deepcopy\n",
    "import numpy as np\n",
    "from sklearn.metrics import silhouette_score, davies_bouldin_score\n",
    "from sklearn import metrics\n",
    "\n",
    "X = np.genfromtxt('1.csv',delimiter=',')\n",
    "X = X[:,0:-1]\n",
    "\n",
    "def kmeans1(fname, K):\n",
    "\n",
    "    n = X.shape[0]\n",
    "    c = X.shape[1]\n",
    "    \n",
    "    a=np.random.randint(n, size=K)\n",
    "    centers = X[a,:]\n",
    "    centers_old = np.ones(centers.shape) # to store old centers\n",
    "    centers_new = centers # Store new centers\n",
    "    \n",
    "    clusters = np.zeros(n)\n",
    "    distances = np.zeros((n,K))\n",
    "    \n",
    "    error = np.linalg.norm(centers_new - centers_old)\n",
    "    \n",
    "    NaN = np.nan\n",
    "    count=0\n",
    "    while (error != 0 and error != NaN and count<100):\n",
    "        # Measure the distance to every center\n",
    "        \n",
    "        for i in range(K):\n",
    "            distances[:,i] = np.linalg.norm(X - centers_new[i], axis=1)\n",
    "        \n",
    "        # Assign all training data to closest center\n",
    "        clusters = np.argmin(distances, axis = 1)\n",
    "        centers_old = centers_new \n",
    "        \n",
    "        # Calculate mean for every cluster and update the center\n",
    "        for i in range(K):\n",
    "            in1=np.where(clusters==i)\n",
    "            if(len(in1[0])>0):\n",
    "                centers_new[i] = np.mean(X[clusters == i], axis=0)\n",
    "            \n",
    "        error = np.sum(centers_new - centers_old)\n",
    "        count=count+1\n",
    "\n",
    "    return centers_new, clusters #clusters will print the labels\n",
    "\n",
    "si=np.zeros((56,9))\n",
    "for i in range(1,57):\n",
    "    fname=str(i)+'.csv'\n",
    "#     data=np.genfromtxt(fname,delimiter=',')\n",
    "    for j in range(2,11):\n",
    "\n",
    "        cen, lab = kmeans1(fname,j)\n",
    "        si[i-1,j-2]=metrics.silhouette_score(X, lab,metric='euclidean')\n",
    "        print(\"SI for number of clusters\",j,\"dataset:\",i, si[i-1,j-2])\n",
    "        print(\"DB index for number of clusters\",j,\"dataset:\",i, davies_bouldin_score(data[:,0:-1], lab))\n"
   ]
  }
 ],
 "metadata": {
  "kernelspec": {
   "display_name": "Python 3",
   "language": "python",
   "name": "python3"
  },
  "language_info": {
   "codemirror_mode": {
    "name": "ipython",
    "version": 3
   },
   "file_extension": ".py",
   "mimetype": "text/x-python",
   "name": "python",
   "nbconvert_exporter": "python",
   "pygments_lexer": "ipython3",
   "version": "3.7.6"
  }
 },
 "nbformat": 4,
 "nbformat_minor": 4
}
