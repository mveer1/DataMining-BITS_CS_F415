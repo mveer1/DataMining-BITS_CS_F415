{
  "nbformat": 4,
  "nbformat_minor": 0,
  "metadata": {
    "colab": {
      "name": "2019A7PS0088H_PARTB.ipynb",
      "provenance": [],
      "toc_visible": true
    },
    "kernelspec": {
      "name": "python3",
      "display_name": "Python 3"
    },
    "language_info": {
      "name": "python"
    }
  },
  "cells": [
    {
      "cell_type": "markdown",
      "metadata": {
        "id": "oDEtVTvFpaT5"
      },
      "source": [
        "# Part **B**\n",
        "1. Write programs to developed models using different version of decision tree.\n",
        "2. Apply 10-fold cross validation\n",
        "3. Store your results in terms of accuracy and F-measure with single excel file with multiple rows\n"
      ]
    },
    {
      "cell_type": "code",
      "metadata": {
        "id": "_dE2g6xlz0Dh"
      },
      "source": [
        "from random import seed\n",
        "from random import randrange\n",
        "from csv import reader\n",
        "\n",
        "def load_csv(fName):\n",
        "    file=open(fName,\"r\")\n",
        "    lines=reader(file)\n",
        "    dataset=list(lines)\n",
        "    return dataset\n",
        "\n",
        "def str_column_to_float(dataSet, column):\n",
        "   for row in dataSet:\n",
        "       row[column] = float(row[column].strip())\n",
        "\n",
        "def cross_validation_split(dataset,folds):\n",
        "   dataset_split = list()\n",
        "   dataset_copy = list(dataset)\n",
        "   fold_size = int(len(dataset) / folds)\n",
        "   for i in range(folds):\n",
        "       fold = list()\n",
        "       while len(fold) < fold_size:\n",
        "           index = randrange(len(dataset_copy))\n",
        "           fold.append(dataset_copy.pop(index))\n",
        "       dataset_split.append(fold)\n",
        "   return dataset_split\n",
        "\n",
        "def accuracy_metric(actual, predicted):\n",
        "   correct = 0\n",
        "   for i in range(len(actual)):\n",
        "       if actual[i] == predicted[i]:\n",
        "           correct += 1\n",
        "   return correct / float(len(actual)) * 100.0\n",
        "\n",
        "def evaluate_algorithm(dataset, algorithm, fold_cnt, *args):\n",
        "   folds = cross_validation_split(dataset, fold_cnt)\n",
        "   scores = list()\n",
        "   for fold in folds:\n",
        "       train_set = list(folds)\n",
        "       train_set.remove(fold)\n",
        "       train_set = sum(train_set, [])\n",
        "       test_set = list()\n",
        "       for row in fold:\n",
        "           row_copy = list(row)\n",
        "           test_set.append(row_copy)\n",
        "           row_copy[-1] = None\n",
        "       predicted = algorithm(train_set, test_set, *args)\n",
        "       actual = [row[-1] for row in fold]\n",
        "       accuracy = accuracy_metric(actual, predicted)\n",
        "       scores.append(accuracy)\n",
        "   return scores\n",
        "\n",
        "def test_split(index, value, dataSet):\n",
        "   left, right = list(), list()\n",
        "   for row in dataSet:\n",
        "       if row[index] < value:\n",
        "           left.append(row)\n",
        "       else:\n",
        "           right.append(row)\n",
        "   return left, right\n",
        "\n",
        "def gini_index(groups, classes):\n",
        "   n_instances = float(sum([len(group) for group in groups]))\n",
        "   gini = 0.0\n",
        "   for group in groups:\n",
        "       size = float(len(group))\n",
        "       if size == 0:\n",
        "           continue\n",
        "       score = 0.0\n",
        "       for class_val in classes:\n",
        "           p = [row[-1] for row in group].count(class_val) / size\n",
        "           score += p * p\n",
        "       gini += (1.0 - score) * (size / n_instances)\n",
        "   return gini\n",
        "\n",
        "def get_split(dataSet):\n",
        "   class_values = list(set(row[-1] for row in dataSet))\n",
        "   b_index, b_value, b_score, b_groups = 999, 999, 999, None\n",
        "   for index in range(len(dataSet[0])-1):\n",
        "       for row in dataSet:\n",
        "           groups = test_split(index, row[index], dataSet)\n",
        "           gini = gini_index(groups, class_values)\n",
        "           if gini < b_score:\n",
        "               b_index, b_value, b_score, b_groups = index, row[index], gini, groups\n",
        "   return {'index':b_index, 'value':b_value, 'groups':b_groups}\n",
        "\n",
        "def to_terminal(grp):\n",
        "   outcomes = [row[-1] for row in grp]\n",
        "   return max(set(outcomes), key=outcomes.count)\n",
        "\n",
        "def split(node, max_depth, min_size, depth):\n",
        "   left, right = node['groups']\n",
        "   del(node['groups'])\n",
        "   if not left or not right:\n",
        "       node['left'] = node['right'] = to_terminal(left + right)\n",
        "       return\n",
        "   if depth >= max_depth:\n",
        "       node['left'], node['right'] = to_terminal(left), to_terminal(right)\n",
        "       return\n",
        "   if len(left) <= min_size:\n",
        "       node['left'] = to_terminal(left)\n",
        "   else:\n",
        "       node['left'] = get_split(left)\n",
        "       split(node['left'], max_depth, min_size, depth+1)\n",
        "   if len(right) <= min_size:\n",
        "       node['right'] = to_terminal(right)\n",
        "   else:\n",
        "       node['right'] = get_split(right)\n",
        "       split(node['right'], max_depth, min_size, depth+1)\n",
        "\n",
        "def build_tree(train, max_depth, min_size):\n",
        "   root = get_split(train)\n",
        "   split(root, max_depth, min_size, 1)\n",
        "   return root\n",
        "\n",
        "def predict(node, row):\n",
        "   if row[node['index']] < node['value']:\n",
        "       if isinstance(node['left'], dict):\n",
        "           return predict(node['left'], row)\n",
        "       else:\n",
        "           return node['left']\n",
        "   else:\n",
        "       if isinstance(node['right'], dict):\n",
        "           return predict(node['right'], row)\n",
        "       else:\n",
        "           return node['right']\n",
        "\n",
        "def decision_tree(train, test, max_depth, min_size):\n",
        "   tree = build_tree(train, max_depth, min_size)\n",
        "   predictions = list()\n",
        "   for row in test:\n",
        "       prediction = predict(tree, row)\n",
        "       predictions.append(prediction)\n",
        "   return(predictions)\n",
        "\n",
        "seed(1)\n",
        "for i in range(1,2):\n",
        "    filename = str(i)+'.csv'\n",
        "    dataset = load_csv(filename)\n",
        "    for i in range(len(dataset[0])):\n",
        "        str_column_to_float(dataset, i)\n",
        "        n_folds = 10\n",
        "        max_depth = 5\n",
        "        min_size = 10\n",
        "        scores = evaluate_algorithm(dataset, decision_tree, n_folds, max_depth, min_size)\n",
        "        print('Scores: %s' % scores)\n",
        "        print('Mean Accuracy: %.3f%%' % (sum(scores)/float(len(scores))))"
      ],
      "execution_count": null,
      "outputs": []
    },
    {
      "cell_type": "code",
      "metadata": {
        "id": "cafYbPkFz1Ep"
      },
      "source": [
        ""
      ],
      "execution_count": null,
      "outputs": []
    },
    {
      "cell_type": "code",
      "metadata": {
        "id": "-EKH9Ieiz1Hb"
      },
      "source": [
        ""
      ],
      "execution_count": null,
      "outputs": []
    },
    {
      "cell_type": "code",
      "metadata": {
        "id": "cn5b8DBAz1Mw"
      },
      "source": [
        ""
      ],
      "execution_count": null,
      "outputs": []
    },
    {
      "cell_type": "code",
      "metadata": {
        "id": "DJzR33ezz1PV"
      },
      "source": [
        ""
      ],
      "execution_count": null,
      "outputs": []
    },
    {
      "cell_type": "code",
      "metadata": {
        "id": "U6PTIz-rz1R9"
      },
      "source": [
        ""
      ],
      "execution_count": null,
      "outputs": []
    },
    {
      "cell_type": "code",
      "metadata": {
        "id": "DySzAgE_z1X7"
      },
      "source": [
        ""
      ],
      "execution_count": null,
      "outputs": []
    },
    {
      "cell_type": "code",
      "metadata": {
        "id": "___F7LPvpas6"
      },
      "source": [
        "from sklearn.preprocessing import MinMaxScaler\n",
        "from sklearn.tree import DecisionTreeClassifier\n",
        "from sklearn.naive_bayes import MultinomialNB\n",
        "from sklearn.naive_bayes import BernoulliNB\n",
        "from sklearn.naive_bayes import GaussianNB"
      ],
      "execution_count": null,
      "outputs": []
    },
    {
      "cell_type": "code",
      "metadata": {
        "id": "rguq0GM9pcRM"
      },
      "source": [
        "def normalizedata(X_train):\n",
        "    scaler = MinMaxScaler()\n",
        "    scaler.fit(X_train)\n",
        "    X_train = scaler.transform(X_train)\n",
        "    return X_train"
      ],
      "execution_count": null,
      "outputs": []
    },
    {
      "cell_type": "code",
      "metadata": {
        "id": "FXOVCTh1pcUG"
      },
      "source": [
        "def model1(trdata,tract,tsdata):\n",
        "    model = DecisionTreeClassifier().fit(trdata,tract)\n",
        "    pred= model.predict(tsdata)\n",
        "    return pred\n",
        "\n",
        "def model2(trdata,tract,tsdata):\n",
        "    model = DecisionTreeClassifier(criterion='entropy').fit(trdata,tract)\n",
        "    pred= model.predict(tsdata)\n",
        "    return pred\n",
        "\n",
        "def modeln1(trdata,tract,tsdata):\n",
        "    model = MultinomialNB()\n",
        "    model.fit(trdata,tract)\n",
        "    pred= model.predict(tsdata)\n",
        "    return pred\n",
        "\n",
        "def modeln2(trdata,tract,tsdata):\n",
        "    model = BernoulliNB()\n",
        "    model.fit(trdata,tract)\n",
        "    pred= model.predict(tsdata)\n",
        "    return pred\n",
        "\n",
        "def modeln3(trdata,tract,tsdata):\n",
        "    model = GaussianNB()\n",
        "    model.fit(trdata,tract)\n",
        "    pred= model.predict(tsdata)\n",
        "    return pred"
      ],
      "execution_count": null,
      "outputs": []
    },
    {
      "cell_type": "code",
      "metadata": {
        "id": "bi_yNkNlpcW5"
      },
      "source": [
        "import numpy as np\n",
        "from sklearn.model_selection import KFold\n",
        "kf = KFold(10)"
      ],
      "execution_count": null,
      "outputs": []
    },
    {
      "cell_type": "code",
      "metadata": {
        "id": "6UIWNuKPpcZx"
      },
      "source": [
        "for i in range(1,2):\n",
        "    print(i)\n",
        "    fname=str(i)+'.csv'\n",
        "    data=np.genfromtxt(fname,delimiter=',')\n",
        "    data[:,0:-1]=normalizedata(data[:,0:-1])\n",
        "    in1=np.where(data[:,-1]>0)\n",
        "    data[in1[0],-1]=1\n",
        "    predvalue=np.zeros((np.shape(data)[0],6))\n",
        "    for train_index, test_index in kf.split(data):\n",
        "        trdata=data[train_index,0:-1]\n",
        "        tsdata=data[test_index,0:-1]\n",
        "        tract=data[train_index,-1]\n",
        "        tsact=data[test_index,-1]\n",
        "        predvalue[test_index,0]=model1(trdata,tract,tsdata)\n",
        "        predvalue[test_index,1]=model2(trdata,tract,tsdata)\n",
        "        predvalue[test_index,2]=modeln1(trdata,tract,tsdata)\n",
        "        predvalue[test_index,3]=modeln3(trdata,tract,tsdata)\n",
        "        predvalue[test_index,4]=modeln3(trdata,tract,tsdata)\n",
        "        predvalue[test_index,5]=tsact\n",
        "    print(predvalue)\n",
        "    fname=str(i)+'asnswer.csv'    \n",
        "    np.savetxt(fname,predvalue, delimiter=',', fmt='%f') "
      ],
      "execution_count": null,
      "outputs": []
    },
    {
      "cell_type": "code",
      "metadata": {
        "id": "PS7xVzKgpccW"
      },
      "source": [
        "from sklearn.metrics import (f1_score, precision_score, recall_score,accuracy_score)\n",
        "\n",
        "fval=np.zeros((56,5))\n",
        "acv=np.zeros((56,5))\n",
        "for i in range(0,56):\n",
        "    print(i+1)\n",
        "    fname= str(i+1)+'.csv'\n",
        "    data1=np.genfromtxt(fname,delimiter=',')\n",
        "    y1=data1[:,-1]\n",
        "    for j in range(0,5):\n",
        "        fval[i,j]=f1_score(y1, data1[:,j], average = 'weighted')\n",
        "        acv[i,j]=accuracy_score(y1, data1[:,j])   \n",
        "    print(fval, acv)\n",
        "\n",
        "\n",
        "fname='acc.csv'    \n",
        "np.savetxt(fname,acv, delimiter=',', fmt='%f')      \n",
        "fname='fmea.csv'\n",
        "np.savetxt(fname,fval, delimiter=',', fmt='%f')  "
      ],
      "execution_count": null,
      "outputs": []
    },
    {
      "cell_type": "code",
      "metadata": {
        "id": "AvqXfbsvpcer"
      },
      "source": [
        "import pandas as pd\n",
        "import matplotlib.pyplot as plt\n",
        "import seaborn as sns\n",
        "\n",
        "df = pd.read_csv('fmea.csv', header = None)\n",
        "print(df.head(3))\n",
        "df.columns = ['Model1', 'Model2', 'Model3', 'Model4', 'Model5']\n",
        "print(df.head(3))\n",
        "\n",
        "sns.boxplot(data=df,palette=\"colorblind\")\n",
        "plt.savefig('F-measure.png')"
      ],
      "execution_count": null,
      "outputs": []
    },
    {
      "cell_type": "code",
      "metadata": {
        "id": "_ofEMkxPpchY"
      },
      "source": [
        "import pandas as pd\n",
        "import matplotlib.pyplot as plt\n",
        "import seaborn as sns\n",
        "\n",
        "df = pd.read_csv('acc.csv', header = None)\n",
        "print(df.head(3))\n",
        "df.columns = ['Model1', 'Model2', 'Model3', 'Model4', 'Model5']\n",
        "print(df.head(3))\n",
        "\n",
        "sns.boxplot(data=df,palette=\"colorblind\")\n",
        "plt.savefig('accuracy.png')"
      ],
      "execution_count": null,
      "outputs": []
    },
    {
      "cell_type": "code",
      "metadata": {
        "id": "EgBD8LJ8pckA"
      },
      "source": [
        ""
      ],
      "execution_count": null,
      "outputs": []
    },
    {
      "cell_type": "code",
      "metadata": {
        "id": "iOYhRa0DpcmF"
      },
      "source": [
        ""
      ],
      "execution_count": null,
      "outputs": []
    }
  ]
}